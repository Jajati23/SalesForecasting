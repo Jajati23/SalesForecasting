{
 "cells": [
  {
   "cell_type": "markdown",
   "id": "f00295c2-d8ef-43ca-be41-eb7e692db804",
   "metadata": {},
   "source": [
    "## Capstone Project"
   ]
  },
  {
   "cell_type": "markdown",
   "id": "3f894fdf-020e-45d4-b355-09f351511629",
   "metadata": {},
   "source": [
    "### Sales Forecasting"
   ]
  },
  {
   "cell_type": "markdown",
   "id": "6fb3792f-5ad5-46fa-9019-e3424e3e8476",
   "metadata": {},
   "source": [
    "#### Problem statement:\n",
    "##### Fresh Analytics, a data analytics company, aims to comprehend and predict the demand for various items across restaurants. To accurately forecast the sales of items across \n",
    "##### different restaurants over the years, enabling better decision-making and planning.\n"
   ]
  },
  {
   "cell_type": "markdown",
   "id": "5cdf61e2-27df-47a1-a92e-f302b02f7315",
   "metadata": {},
   "source": [
    "### Import python library"
   ]
  },
  {
   "cell_type": "code",
   "execution_count": 1,
   "id": "aedea010-7bd7-49db-8db6-933e45682f2d",
   "metadata": {},
   "outputs": [],
   "source": [
    "import numpy as np\n",
    "import pandas as pd\n",
    "import matplotlib.pyplot as plt\n",
    "import seaborn as sns\n",
    "import statistics"
   ]
  },
  {
   "cell_type": "markdown",
   "id": "fba1d1d2-40ff-4d60-889f-b23acfe4f906",
   "metadata": {},
   "source": [
    "### Load Resturants dataset"
   ]
  },
  {
   "cell_type": "code",
   "execution_count": 2,
   "id": "3bb702d1-32bb-41c3-9e71-333f7902ae0e",
   "metadata": {},
   "outputs": [
    {
     "name": "stdout",
     "output_type": "stream",
     "text": [
      "Resturants list\n",
      "   id            name\n",
      "0   1     Bob's Diner\n",
      "1   2  Beachfront Bar\n",
      "2   3     Sweet Shack\n",
      "3   4        Fou Cher\n",
      "4   5     Corner Cafe\n",
      "\n",
      "\n",
      "Resturants items list\n",
      "   id  store_id                               name  kcal   cost\n",
      "0   1         4                     Chocolate Cake   554   6.71\n",
      "1   2         4  Breaded Fish with Vegetables Meal   772  15.09\n",
      "2   3         1                  Sweet Fruity Cake   931  29.22\n",
      "3   4         1    Amazing Steak Dinner with Rolls   763  26.42\n",
      "4   5         5                          Milk Cake   583   6.07\n",
      "\n",
      "\n",
      "Resturants sales list\n",
      "         date  item_id  item_count   price\n",
      "0  01-01-2019        3           2   58.44\n",
      "1  01-01-2019        4          22  581.24\n",
      "2  01-01-2019       12           7   34.09\n",
      "3  01-01-2019       13          12   50.16\n",
      "4  01-01-2019       16         136  436.56\n"
     ]
    }
   ],
   "source": [
    "#Resturants list\n",
    "\n",
    "print('Resturants list')\n",
    "df_resturants_data = pd.read_csv('resturants.csv')\n",
    "print(df_resturants_data.head())\n",
    "\n",
    "#Resturants item list\n",
    "print('\\n')\n",
    "print('Resturants items list')\n",
    "df_items_data = pd.read_csv('items.csv')\n",
    "print(df_items_data.head())\n",
    "\n",
    "#Resturants sales\n",
    "\n",
    "print('\\n')\n",
    "print('Resturants sales list')\n",
    "df_sales_data = pd.read_csv('sales.csv')\n",
    "print(df_sales_data.head())"
   ]
  },
  {
   "cell_type": "markdown",
   "id": "fbd5cb7c-8f24-45f3-8116-da7ffebb4421",
   "metadata": {},
   "source": [
    "#### Check sales data overview : null value, rows / column count, data types, etc."
   ]
  },
  {
   "cell_type": "code",
   "execution_count": 3,
   "id": "77771d16-a6be-445b-b9bd-7fe2fb9c27f4",
   "metadata": {},
   "outputs": [
    {
     "data": {
      "text/plain": [
       "date          0\n",
       "item_id       0\n",
       "item_count    0\n",
       "price         0\n",
       "dtype: int64"
      ]
     },
     "execution_count": 3,
     "metadata": {},
     "output_type": "execute_result"
    }
   ],
   "source": [
    "#Checking null records and found no null records in th datataset\n",
    "df_sales_data.isnull().sum()"
   ]
  },
  {
   "cell_type": "code",
   "execution_count": 4,
   "id": "4c1bea62-5add-43ce-9110-8d294a18382d",
   "metadata": {},
   "outputs": [
    {
     "name": "stdout",
     "output_type": "stream",
     "text": [
      "<class 'pandas.core.frame.DataFrame'>\n",
      "RangeIndex: 109600 entries, 0 to 109599\n",
      "Data columns (total 4 columns):\n",
      " #   Column      Non-Null Count   Dtype  \n",
      "---  ------      --------------   -----  \n",
      " 0   date        109600 non-null  object \n",
      " 1   item_id     109600 non-null  int64  \n",
      " 2   item_count  109600 non-null  int64  \n",
      " 3   price       109600 non-null  float64\n",
      "dtypes: float64(1), int64(2), object(1)\n",
      "memory usage: 3.3+ MB\n",
      "None\n"
     ]
    }
   ],
   "source": [
    "#Check data type and null type\n",
    "print(df_sales_data.info())"
   ]
  },
  {
   "cell_type": "code",
   "execution_count": 5,
   "id": "15a4d300-b505-432f-ab4e-d2ec0734333a",
   "metadata": {},
   "outputs": [
    {
     "name": "stdout",
     "output_type": "stream",
     "text": [
      "date          01-01-2019\n",
      "item_id                3\n",
      "item_count             2\n",
      "price              58.44\n",
      "Name: 0, dtype: object\n"
     ]
    }
   ],
   "source": [
    "#Access the first row data by using iloc\n",
    "\n",
    "print(df_sales_data.iloc[0])"
   ]
  },
  {
   "cell_type": "markdown",
   "id": "fdce75a4-4a28-449e-a89d-ac4c657e5c1a",
   "metadata": {},
   "source": [
    "#### Showing Resturant Sales Date, Item and Price wise Groupby"
   ]
  },
  {
   "cell_type": "code",
   "execution_count": 6,
   "id": "078734b3-ccce-445b-9b9a-f337bd7c3455",
   "metadata": {},
   "outputs": [
    {
     "data": {
      "text/html": [
       "<div>\n",
       "<style scoped>\n",
       "    .dataframe tbody tr th:only-of-type {\n",
       "        vertical-align: middle;\n",
       "    }\n",
       "\n",
       "    .dataframe tbody tr th {\n",
       "        vertical-align: top;\n",
       "    }\n",
       "\n",
       "    .dataframe thead th {\n",
       "        text-align: right;\n",
       "    }\n",
       "</style>\n",
       "<table border=\"1\" class=\"dataframe\">\n",
       "  <thead>\n",
       "    <tr style=\"text-align: right;\">\n",
       "      <th></th>\n",
       "      <th></th>\n",
       "      <th></th>\n",
       "      <th>price</th>\n",
       "    </tr>\n",
       "    <tr>\n",
       "      <th>date</th>\n",
       "      <th>item_count</th>\n",
       "      <th>item_id</th>\n",
       "      <th></th>\n",
       "    </tr>\n",
       "  </thead>\n",
       "  <tbody>\n",
       "    <tr>\n",
       "      <th rowspan=\"5\" valign=\"top\">01-01-2019</th>\n",
       "      <th rowspan=\"5\" valign=\"top\">0</th>\n",
       "      <th>1</th>\n",
       "      <td>0.00</td>\n",
       "    </tr>\n",
       "    <tr>\n",
       "      <th>2</th>\n",
       "      <td>0.00</td>\n",
       "    </tr>\n",
       "    <tr>\n",
       "      <th>5</th>\n",
       "      <td>0.00</td>\n",
       "    </tr>\n",
       "    <tr>\n",
       "      <th>6</th>\n",
       "      <td>0.00</td>\n",
       "    </tr>\n",
       "    <tr>\n",
       "      <th>7</th>\n",
       "      <td>0.00</td>\n",
       "    </tr>\n",
       "    <tr>\n",
       "      <th>...</th>\n",
       "      <th>...</th>\n",
       "      <th>...</th>\n",
       "      <td>...</td>\n",
       "    </tr>\n",
       "    <tr>\n",
       "      <th rowspan=\"5\" valign=\"top\">31-12-2021</th>\n",
       "      <th>54</th>\n",
       "      <th>59</th>\n",
       "      <td>1261.98</td>\n",
       "    </tr>\n",
       "    <tr>\n",
       "      <th>70</th>\n",
       "      <th>76</th>\n",
       "      <td>1255.10</td>\n",
       "    </tr>\n",
       "    <tr>\n",
       "      <th>85</th>\n",
       "      <th>9</th>\n",
       "      <td>332.35</td>\n",
       "    </tr>\n",
       "    <tr>\n",
       "      <th>119</th>\n",
       "      <th>38</th>\n",
       "      <td>1285.20</td>\n",
       "    </tr>\n",
       "    <tr>\n",
       "      <th>301</th>\n",
       "      <th>19</th>\n",
       "      <td>869.89</td>\n",
       "    </tr>\n",
       "  </tbody>\n",
       "</table>\n",
       "<p>109600 rows × 1 columns</p>\n",
       "</div>"
      ],
      "text/plain": [
       "                                 price\n",
       "date       item_count item_id         \n",
       "01-01-2019 0          1           0.00\n",
       "                      2           0.00\n",
       "                      5           0.00\n",
       "                      6           0.00\n",
       "                      7           0.00\n",
       "...                                ...\n",
       "31-12-2021 54         59       1261.98\n",
       "           70         76       1255.10\n",
       "           85         9         332.35\n",
       "           119        38       1285.20\n",
       "           301        19        869.89\n",
       "\n",
       "[109600 rows x 1 columns]"
      ]
     },
     "execution_count": 6,
     "metadata": {},
     "output_type": "execute_result"
    }
   ],
   "source": [
    "df_sales_data[['date', 'item_id','item_count', 'price']].groupby(['date','item_count','item_id']).mean()"
   ]
  },
  {
   "cell_type": "markdown",
   "id": "309a49c5-6aa9-477f-a6d6-3a0c7059de6e",
   "metadata": {},
   "source": [
    "#### Dealing with Outliers data "
   ]
  },
  {
   "cell_type": "code",
   "execution_count": 7,
   "id": "b02243da-1941-4da4-aae4-d9e3b79673da",
   "metadata": {},
   "outputs": [
    {
     "data": {
      "text/html": [
       "<div>\n",
       "<style scoped>\n",
       "    .dataframe tbody tr th:only-of-type {\n",
       "        vertical-align: middle;\n",
       "    }\n",
       "\n",
       "    .dataframe tbody tr th {\n",
       "        vertical-align: top;\n",
       "    }\n",
       "\n",
       "    .dataframe thead th {\n",
       "        text-align: right;\n",
       "    }\n",
       "</style>\n",
       "<table border=\"1\" class=\"dataframe\">\n",
       "  <thead>\n",
       "    <tr style=\"text-align: right;\">\n",
       "      <th></th>\n",
       "      <th>item_id</th>\n",
       "      <th>item_count</th>\n",
       "      <th>price</th>\n",
       "    </tr>\n",
       "  </thead>\n",
       "  <tbody>\n",
       "    <tr>\n",
       "      <th>count</th>\n",
       "      <td>109600.000000</td>\n",
       "      <td>109600.000000</td>\n",
       "      <td>109600.000000</td>\n",
       "    </tr>\n",
       "    <tr>\n",
       "      <th>mean</th>\n",
       "      <td>50.500000</td>\n",
       "      <td>6.339297</td>\n",
       "      <td>58.428271</td>\n",
       "    </tr>\n",
       "    <tr>\n",
       "      <th>std</th>\n",
       "      <td>28.866202</td>\n",
       "      <td>30.003728</td>\n",
       "      <td>214.812200</td>\n",
       "    </tr>\n",
       "    <tr>\n",
       "      <th>min</th>\n",
       "      <td>1.000000</td>\n",
       "      <td>0.000000</td>\n",
       "      <td>0.000000</td>\n",
       "    </tr>\n",
       "    <tr>\n",
       "      <th>25%</th>\n",
       "      <td>25.750000</td>\n",
       "      <td>0.000000</td>\n",
       "      <td>0.000000</td>\n",
       "    </tr>\n",
       "    <tr>\n",
       "      <th>50%</th>\n",
       "      <td>50.500000</td>\n",
       "      <td>0.000000</td>\n",
       "      <td>0.000000</td>\n",
       "    </tr>\n",
       "    <tr>\n",
       "      <th>75%</th>\n",
       "      <td>75.250000</td>\n",
       "      <td>0.000000</td>\n",
       "      <td>0.000000</td>\n",
       "    </tr>\n",
       "    <tr>\n",
       "      <th>max</th>\n",
       "      <td>100.000000</td>\n",
       "      <td>570.000000</td>\n",
       "      <td>2224.800000</td>\n",
       "    </tr>\n",
       "  </tbody>\n",
       "</table>\n",
       "</div>"
      ],
      "text/plain": [
       "             item_id     item_count          price\n",
       "count  109600.000000  109600.000000  109600.000000\n",
       "mean       50.500000       6.339297      58.428271\n",
       "std        28.866202      30.003728     214.812200\n",
       "min         1.000000       0.000000       0.000000\n",
       "25%        25.750000       0.000000       0.000000\n",
       "50%        50.500000       0.000000       0.000000\n",
       "75%        75.250000       0.000000       0.000000\n",
       "max       100.000000     570.000000    2224.800000"
      ]
     },
     "execution_count": 7,
     "metadata": {},
     "output_type": "execute_result"
    }
   ],
   "source": [
    "#Copy of original dataset\n",
    "df_sales_data_Outlier = df_sales_data.copy()\n",
    "\n",
    "#Check statistical values for all numerical columns value\n",
    "df_sales_data_Outlier.describe()"
   ]
  },
  {
   "cell_type": "code",
   "execution_count": 18,
   "id": "db71ded6-3c3e-4a33-82a7-cbd145061d8c",
   "metadata": {},
   "outputs": [
    {
     "data": {
      "text/html": [
       "<div>\n",
       "<style scoped>\n",
       "    .dataframe tbody tr th:only-of-type {\n",
       "        vertical-align: middle;\n",
       "    }\n",
       "\n",
       "    .dataframe tbody tr th {\n",
       "        vertical-align: top;\n",
       "    }\n",
       "\n",
       "    .dataframe thead th {\n",
       "        text-align: right;\n",
       "    }\n",
       "</style>\n",
       "<table border=\"1\" class=\"dataframe\">\n",
       "  <thead>\n",
       "    <tr style=\"text-align: right;\">\n",
       "      <th></th>\n",
       "      <th>date</th>\n",
       "      <th>item_id</th>\n",
       "      <th>item_count</th>\n",
       "      <th>price</th>\n",
       "    </tr>\n",
       "  </thead>\n",
       "  <tbody>\n",
       "    <tr>\n",
       "      <th>0</th>\n",
       "      <td>01-01-2019</td>\n",
       "      <td>3</td>\n",
       "      <td>2</td>\n",
       "      <td>58.44</td>\n",
       "    </tr>\n",
       "    <tr>\n",
       "      <th>1</th>\n",
       "      <td>01-01-2019</td>\n",
       "      <td>4</td>\n",
       "      <td>22</td>\n",
       "      <td>581.24</td>\n",
       "    </tr>\n",
       "    <tr>\n",
       "      <th>2</th>\n",
       "      <td>01-01-2019</td>\n",
       "      <td>12</td>\n",
       "      <td>7</td>\n",
       "      <td>34.09</td>\n",
       "    </tr>\n",
       "    <tr>\n",
       "      <th>3</th>\n",
       "      <td>01-01-2019</td>\n",
       "      <td>13</td>\n",
       "      <td>12</td>\n",
       "      <td>50.16</td>\n",
       "    </tr>\n",
       "    <tr>\n",
       "      <th>4</th>\n",
       "      <td>01-01-2019</td>\n",
       "      <td>16</td>\n",
       "      <td>136</td>\n",
       "      <td>436.56</td>\n",
       "    </tr>\n",
       "    <tr>\n",
       "      <th>...</th>\n",
       "      <td>...</td>\n",
       "      <td>...</td>\n",
       "      <td>...</td>\n",
       "      <td>...</td>\n",
       "    </tr>\n",
       "    <tr>\n",
       "      <th>109595</th>\n",
       "      <td>31-12-2021</td>\n",
       "      <td>96</td>\n",
       "      <td>0</td>\n",
       "      <td>0.00</td>\n",
       "    </tr>\n",
       "    <tr>\n",
       "      <th>109596</th>\n",
       "      <td>31-12-2021</td>\n",
       "      <td>97</td>\n",
       "      <td>0</td>\n",
       "      <td>0.00</td>\n",
       "    </tr>\n",
       "    <tr>\n",
       "      <th>109597</th>\n",
       "      <td>31-12-2021</td>\n",
       "      <td>98</td>\n",
       "      <td>0</td>\n",
       "      <td>0.00</td>\n",
       "    </tr>\n",
       "    <tr>\n",
       "      <th>109598</th>\n",
       "      <td>31-12-2021</td>\n",
       "      <td>99</td>\n",
       "      <td>0</td>\n",
       "      <td>0.00</td>\n",
       "    </tr>\n",
       "    <tr>\n",
       "      <th>109599</th>\n",
       "      <td>31-12-2021</td>\n",
       "      <td>100</td>\n",
       "      <td>0</td>\n",
       "      <td>0.00</td>\n",
       "    </tr>\n",
       "  </tbody>\n",
       "</table>\n",
       "<p>109600 rows × 4 columns</p>\n",
       "</div>"
      ],
      "text/plain": [
       "              date  item_id  item_count   price\n",
       "0       01-01-2019        3           2   58.44\n",
       "1       01-01-2019        4          22  581.24\n",
       "2       01-01-2019       12           7   34.09\n",
       "3       01-01-2019       13          12   50.16\n",
       "4       01-01-2019       16         136  436.56\n",
       "...            ...      ...         ...     ...\n",
       "109595  31-12-2021       96           0    0.00\n",
       "109596  31-12-2021       97           0    0.00\n",
       "109597  31-12-2021       98           0    0.00\n",
       "109598  31-12-2021       99           0    0.00\n",
       "109599  31-12-2021      100           0    0.00\n",
       "\n",
       "[109600 rows x 4 columns]"
      ]
     },
     "execution_count": 18,
     "metadata": {},
     "output_type": "execute_result"
    }
   ],
   "source": [
    "df_sales_data_Outlier"
   ]
  },
  {
   "cell_type": "code",
   "execution_count": 8,
   "id": "2070c5ee-5aaa-4f45-ae54-31b82da96385",
   "metadata": {},
   "outputs": [
    {
     "data": {
      "text/plain": [
       "<AxesSubplot: >"
      ]
     },
     "execution_count": 8,
     "metadata": {},
     "output_type": "execute_result"
    },
    {
     "data": {
      "image/png": "[encoded data removed]",
      "text/plain": [
       "<Figure size 432x288 with 1 Axes>"
      ]
     },
     "metadata": {
      "needs_background": "light"
     },
     "output_type": "display_data"
    }
   ],
   "source": [
    "sns.boxplot(df_sales_data_Outlier['item_id'])"
   ]
  },
  {
   "cell_type": "code",
   "execution_count": null,
   "id": "01ccb87f-0049-4653-91c6-ebeb9484e246",
   "metadata": {},
   "outputs": [],
   "source": [
    "sns.boxplot(x = df_sales_data_Outlier['date'], \n",
    "            y = df_sales_data_Outlier['item_id'], \n",
    "            hue = df_sales_data_Outlier['price'])"
   ]
  },
  {
   "cell_type": "code",
   "execution_count": null,
   "id": "fc42e310-2e2a-433a-a2b9-ad6cbe9df89f",
   "metadata": {},
   "outputs": [],
   "source": [
    "%matplotlib inline\n",
    "(df_sales_data_Outlier['Sales']).hist()"
   ]
  },
  {
   "cell_type": "code",
   "execution_count": null,
   "id": "8fd582ea-80f6-426c-98d7-a0cca3b5db79",
   "metadata": {},
   "outputs": [],
   "source": []
  }
 ],
 "metadata": {
  "kernelspec": {
   "display_name": "Python 3 [3.10]",
   "language": "python",
   "name": "python3"
  },
  "language_info": {
   "codemirror_mode": {
    "name": "ipython",
    "version": 3
   },
   "file_extension": ".py",
   "mimetype": "text/x-python",
   "name": "python",
   "nbconvert_exporter": "python",
   "pygments_lexer": "ipython3",
   "version": "3.10.2"
  }
 },
 "nbformat": 4,
 "nbformat_minor": 5
}
